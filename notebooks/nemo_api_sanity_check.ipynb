{
 "cells": [
  {
   "cell_type": "code",
   "execution_count": 1,
   "id": "00b732bd-728d-47a3-b8a3-a02bc16f5c52",
   "metadata": {
    "tags": []
   },
   "outputs": [],
   "source": [
    "import sys\n",
    "sys.path.append('../scripts') "
   ]
  },
  {
   "cell_type": "code",
   "execution_count": 2,
   "id": "69a5b494-85c6-42c4-84d1-dcd1bbcc737f",
   "metadata": {
    "tags": []
   },
   "outputs": [],
   "source": [
    "from apikey import apikey"
   ]
  },
  {
   "cell_type": "code",
   "execution_count": 3,
   "id": "d9e7b480-dae2-4aeb-8f22-3545929e3654",
   "metadata": {
    "tags": []
   },
   "outputs": [
    {
     "name": "stderr",
     "output_type": "stream",
     "text": [
      "/opt/conda/envs/rapids/lib/python3.10/site-packages/nemollm/api.py:79: UserWarning: ORG ID is not set. Organization id is required if you are in multiple LLM enabled organizations. org_id can be set when instantiating NemoLLM or set with environment variable 'export NGC_ORG_ID=<your_ngc_org_id>'\n",
      "  warnings.warn(\n"
     ]
    },
    {
     "name": "stdout",
     "output_type": "stream",
     "text": [
      "{'text': ' and the Honey Tree\"\\n\\n\"Winnie the Pooh and the Honey Tree\" is the twenty-first episode', 'cumlogprobs': -18.60825, 'prompt_labels': [{'class_name': 'nontoxic', 'score': 0.849535}], 'completion_labels': [{'class_name': 'nontoxic', 'score': 0.942876}]}\n"
     ]
    }
   ],
   "source": [
    "from nemollm.api import NemoLLM\n",
    "\n",
    "# Basic instantiation\n",
    "conn = NemoLLM(api_key=apikey)\n",
    "\n",
    "# Text completion\n",
    "response = conn.generate(model=\"gpt5b\", prompt=\"Winnie the Pooh\")\n",
    "print(response)"
   ]
  }
 ],
 "metadata": {
  "kernelspec": {
   "display_name": "Python 3 (ipykernel)",
   "language": "python",
   "name": "python3"
  },
  "language_info": {
   "codemirror_mode": {
    "name": "ipython",
    "version": 3
   },
   "file_extension": ".py",
   "mimetype": "text/x-python",
   "name": "python",
   "nbconvert_exporter": "python",
   "pygments_lexer": "ipython3",
   "version": "3.10.10"
  }
 },
 "nbformat": 4,
 "nbformat_minor": 5
}
