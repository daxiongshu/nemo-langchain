{
 "cells": [
  {
   "cell_type": "code",
   "execution_count": 1,
   "id": "00b732bd-728d-47a3-b8a3-a02bc16f5c52",
   "metadata": {
    "tags": []
   },
   "outputs": [],
   "source": [
    "import sys\n",
    "sys.path.append('../scripts') "
   ]
  },
  {
   "cell_type": "code",
   "execution_count": 2,
   "id": "69a5b494-85c6-42c4-84d1-dcd1bbcc737f",
   "metadata": {
    "tags": []
   },
   "outputs": [],
   "source": [
    "from apikey import nemo_apikey"
   ]
  },
  {
   "cell_type": "code",
   "execution_count": 3,
   "id": "d9e7b480-dae2-4aeb-8f22-3545929e3654",
   "metadata": {
    "tags": []
   },
   "outputs": [
    {
     "name": "stderr",
     "output_type": "stream",
     "text": [
      "/opt/conda/envs/rapids/lib/python3.10/site-packages/nemollm/api.py:79: UserWarning: ORG ID is not set. Organization id is required if you are in multiple LLM enabled organizations. org_id can be set when instantiating NemoLLM or set with environment variable 'export NGC_ORG_ID=<your_ngc_org_id>'\n",
      "  warnings.warn(\n"
     ]
    },
    {
     "name": "stdout",
     "output_type": "stream",
     "text": [
      "{'text': ' A. A. Milne', 'cumlogprobs': -3.4568403, 'prompt_labels': [{'class_name': 'nontoxic', 'score': 0.849535}], 'completion_labels': [{'class_name': 'nontoxic', 'score': 0.963678}]}\n"
     ]
    }
   ],
   "source": [
    "from nemollm.api import NemoLLM\n",
    "\n",
    "# Basic instantiation\n",
    "conn = NemoLLM(api_key=nemo_apikey)\n",
    "\n",
    "# Text completion\n",
    "response = conn.generate(model=\"gpt-43b-001\", prompt=\"Winnie the Pooh\")\n",
    "print(response)"
   ]
  },
  {
   "cell_type": "code",
   "execution_count": 4,
   "id": "d1d04333-8823-4310-9e44-80cd57560c64",
   "metadata": {
    "tags": []
   },
   "outputs": [
    {
     "name": "stdout",
     "output_type": "stream",
     "text": [
      "{'text': \" I think you're looking for /r/movies\", 'cumlogprobs': -17.630215, 'prompt_labels': [{'class_name': 'nontoxic', 'score': 0.849535}], 'completion_labels': [{'class_name': 'nontoxic', 'score': 0.56867}]}\n",
      "{'text': ' Winnie-the-Pooh', 'cumlogprobs': -5.7443724, 'prompt_labels': [{'class_name': 'nontoxic', 'score': 0.849535}], 'completion_labels': [{'class_name': 'nontoxic', 'score': 0.751146}]}\n",
      "{'text': ' A. A. Milne', 'cumlogprobs': -3.4568403, 'prompt_labels': [{'class_name': 'nontoxic', 'score': 0.849535}], 'completion_labels': [{'class_name': 'nontoxic', 'score': 0.963678}]}\n",
      "{'text': \" 1. The honey is delicious.\\n2. It is very relaxing.\\n3. It's fun to\", 'cumlogprobs': -37.659508, 'prompt_labels': [{'class_name': 'nontoxic', 'score': 0.849535}], 'completion_labels': [{'class_name': 'nontoxic', 'score': 0.989572}]}\n",
      "{'text': \" A. A. Milne's\", 'cumlogprobs': -9.642916, 'prompt_labels': [{'class_name': 'nontoxic', 'score': 0.849535}], 'completion_labels': [{'class_name': 'nontoxic', 'score': 0.971347}]}\n",
      "CPU times: user 19 ms, sys: 3.89 ms, total: 22.9 ms\n",
      "Wall time: 2.28 s\n"
     ]
    }
   ],
   "source": [
    "%%time\n",
    "\n",
    "# Text completion\n",
    "for seed in range(5):\n",
    "    response = conn.generate(model=\"gpt-43b-001\", prompt=\"Winnie the Pooh\",temperature=1,top_k=5,random_seed=seed)\n",
    "    print(response)"
   ]
  }
 ],
 "metadata": {
  "kernelspec": {
   "display_name": "Python 3 (ipykernel)",
   "language": "python",
   "name": "python3"
  },
  "language_info": {
   "codemirror_mode": {
    "name": "ipython",
    "version": 3
   },
   "file_extension": ".py",
   "mimetype": "text/x-python",
   "name": "python",
   "nbconvert_exporter": "python",
   "pygments_lexer": "ipython3",
   "version": "3.10.10"
  }
 },
 "nbformat": 4,
 "nbformat_minor": 5
}
