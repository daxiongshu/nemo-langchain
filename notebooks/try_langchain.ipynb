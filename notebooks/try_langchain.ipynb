{
 "cells": [
  {
   "cell_type": "code",
   "execution_count": 1,
   "id": "f524c111-9977-4914-93da-a5b55dce64f0",
   "metadata": {
    "tags": []
   },
   "outputs": [],
   "source": [
    "import sys\n",
    "sys.path.append('../scripts') "
   ]
  },
  {
   "cell_type": "code",
   "execution_count": 2,
   "id": "51f17df9-e28b-401c-b5a6-b4bf03e524b6",
   "metadata": {
    "tags": []
   },
   "outputs": [],
   "source": [
    "from apikey import nemo_apikey, openai_apikey"
   ]
  },
  {
   "cell_type": "code",
   "execution_count": 3,
   "id": "28f2a199-b668-45d7-b2e8-e57c4085c79e",
   "metadata": {
    "tags": []
   },
   "outputs": [],
   "source": [
    "import os\n",
    "os.environ['OPENAI_API_KEY']=openai_apikey"
   ]
  },
  {
   "cell_type": "code",
   "execution_count": 4,
   "id": "ee544ab9-ea26-45fd-a93a-63538fd640ce",
   "metadata": {
    "tags": []
   },
   "outputs": [],
   "source": [
    "import openai"
   ]
  },
  {
   "cell_type": "code",
   "execution_count": 5,
   "id": "b4ead9fc-a466-4083-8448-eca1e7b14ff2",
   "metadata": {
    "tags": []
   },
   "outputs": [],
   "source": [
    "openai.api_key = openai_apikey"
   ]
  },
  {
   "cell_type": "code",
   "execution_count": 6,
   "id": "52806f9a-d399-4065-aa10-69982020fe7d",
   "metadata": {
    "tags": []
   },
   "outputs": [
    {
     "name": "stdout",
     "output_type": "stream",
     "text": [
      "2023 text-generating language model\n",
      "\"ChatGPT-4\" redirects here. For other uses, see GPT.\n",
      "\n",
      "\n",
      "\n",
      "\n",
      "Generative Pre-trained Transformer 4 (GPT-4) is a multimodal large language model created by OpenAI, and the fourth in its numbered \"GPT-n\" series of GPT foundation models. It was released on March 14, 2023, and has been made publicly available in a limited form via the chatbot product ChatGPT Plus (a premium version of ChatGPT), and with access to the GPT-4 based version of OpenAI's API being provided via a waitlist. As a transformer based model, GPT-4 was pretrained to predict the next token (using both public data and \"data licensed from third-party providers\"), and was then fine-tuned with reinforcement learning from human and AI feedback for human alignment and policy compliance.\n",
      "Observers reported the GPT-4 based version of ChatGPT to be an improvement on the previous (GPT-3.5 based) ChatGPT, with the caveat that GPT-4 retains some of the same problems. Unlike the predecessors, GPT-4 can take images as well as text as input. OpenAI has declined to reveal technical information such as the size of the GPT-4 model.\n",
      "\n",
      "\n",
      "\n",
      "Further information: GPT-3 § Background, and GPT-2 § Background\n",
      "OpenAI introduced the first GPT model (GPT-1) in 2018, publishing a paper called \"Improving Language Understanding by Generative Pre-Training.\" It was based on the transformer architecture and trained on a large corpus of books. The next year, they introduced GPT-2, a larger model that could generate coherent text. In 2020, they introduced GPT-3, a model with 100 times as many parameters as GPT-2, that could perform various tasks with few examples. GPT-3 was further improved into GPT-3.5, which was used to create the chatbot product ChatGPT. \n",
      "Rumors claim that GPT-4 has 1.76 trillion parameters, which was first estimated by the speed it was running and by George Hotz.\n",
      "\n",
      "\n",
      "OpenAI stated that GPT-4 is \"more reliable, creative, and able to handle much more nuanced instructions than GPT-3.5.\" They produced two versions of GPT-4, with context windows of 8,192 and 32,768 tokens, a significant improvement over GPT-3.5 and GPT-3, which were limited to 4,096 and 2,049 tokens respectively. Some of the capabilities of GPT-4 were predicted by OpenAI before training it, although other capabilities remained hard to predict due to breaks in downstream scaling laws. Unlike its predecessors, GPT-4 is a multimodal model: it can take images as well as text as input; this gives it the ability to describe the humor in unusual images, summarize text from screenshots, and answer exam questions that contain diagrams.\n",
      "To gain further control over GPT-4, OpenAI introduced the \"system message\", a directive in natural language given to GPT-4 in order to specify its tone of voice and task. For example, the system message can instruct the model to \"be a Shakespearean pirate\", in which case it will respond in rhyming, Shakespearean prose, or request it to \"always write the output of [its] response in JSON\", in which case the model will do so, adding keys and values as it sees fit to match the structure of its reply. In the examples provided by OpenAI, GPT-4 refused to deviate from its system message despite requests to do otherwise by the user during the conversation.\n",
      "When instructed to do so, GPT-4 can interact with external interfaces. For example, the model could be instructed to enclose a query within <search></search> tags to perform a web search, the result of which would be inserted into the model's prompt to allow it to form a response. This allows the model to perform tasks beyond its normal text-prediction capabilities, such as using APIs, generating images, and accessing and summarizing webpages.\n",
      "A 2023 article in Nature stated programmers have found GPT-4 useful for assisting in coding tasks (despite its propensity for error), such as finding errors in existing code and suggesting optimizations to improve performance. The article quoted a biophysicist who found that the time he required to port one of his programs from MATLAB to Python went down from days to \"an hour or so\". On a test of 89 security scenarios, GPT-4 produced code vulnerable to SQL injection attacks 5% of the time, an improvement over Github Copilot from the year 2021, which produced vulnerabilities 40% of the time.\n",
      "\n",
      "\n",
      "GPT-4 demonstrates aptitude on several standardized tests. OpenAI claims that in their own testing the model received a score of 1410 on the SAT (94th percentile), 163 on the LSAT (88th percentile), and 298 on the Uniform Bar Exam (90th percentile). In contrast, OpenAI claims that GPT-3.5 received scores for the same exams in the 82nd, 40th, and 10th percentiles, respectively.\n",
      "GPT-4 also passed an oncology exam, an engineering exam and a plastic surgery exam.\n",
      "\n",
      "\n",
      "Researchers from Microsoft tested GPT-4 on medical problems and found \"that GPT-4, without any specialized prompt crafting, exceeds the passing score on USMLE by over 20 points and outperforms earlier general-purpose models (GPT-3.5) as well as models specifically fine-tuned on medical knowledge (Med-PaLM, a prompt-tuned version of Flan-PaLM 540B)\".\n",
      "A report by Microsoft has found that GPT-4 may act unreliably when used in the medical field. In their test example, GPT-4 added fabricated details to a patient's notes.\n",
      "In April 2023, Microsoft and Epic Systems announced that they will provide healthcare providers with GPT-4 powered systems for assisting in responding to questions from patients and analysing medical records.\n",
      "\n",
      "\n",
      "Like its predecessors, GPT-4 has been known to hallucinate, meaning that the outputs may include information not in the training data or that contradicts the user's prompt.\n",
      "GPT-4 also lacks transparency in its decision-making processes. If requested, the model is able to provide an explanation as to how and why it makes its decisions but these explanations are formed post-hoc; it's impossible to verify if those explanations truly reflect the actual process. In many cases, when asked to explain its logic, GPT-4 will give explanations that directly contradict its previous statements.\n",
      "\n",
      "\n",
      "GPT-4 was trained in two stages. First, the model was given large datasets of text taken from the internet and trained to predict the next token (roughly corresponding to a word) in those datasets. Second, human reviews are used to fine-tune the system in a process called reinforcement learning from human feedback, which trains the model to refuse prompts which go against OpenAI's definition of harmful behavior, such as questions on how to perform illegal activities, advice on how to harm oneself or others, or requests for descriptions of graphic, violent, or sexual content.\n",
      "Microsoft researchers suggested GPT-4 may exhibit cognitive biases such as confirmation bias, anchoring, and base-rate neglect.\n",
      "\n",
      "\n",
      "OpenAI did not release the technical details of GPT-4; the technical report explicitly refrained from specifying the model size, architecture, or hardware used during either training or inference. While the report described that the model was trained using a combination of first supervised learning on a large dataset, then reinforcement learning using both human and AI feedback, it did not provide details of the training, including the process by which the training dataset was constructed, the computing power required, or any hyperparameters such as the learning rate, epoch count, or optimizer(s) used. The report claimed that \"the competitive landscape and the safety implications of large-scale models\" were factors that influenced this decision.\n",
      "Sam Altman stated that the cost of training GPT-4 was more than $100 million. News website Semafor claimed that they had spoken with \"eight people familiar with the inside story\" and found that GPT-4 had 1 trillion parameters.\n",
      "\n",
      "\n",
      "According to their report, OpenAI conducted internal adversarial testing on GPT-4 prior to the launch date, with dedicated red teams composed of researchers and industry professionals to mitigate potential vulnerabilities. As part of these efforts, they granted the Alignment Research Center early access to the models to assess power-seeking risks. In order to properly refuse harmful prompts, outputs from GPT-4 were tweaked using the model itself as a tool. A GPT-4 classifier serving as a rule-based reward model (RBRM) would take prompts, the corresponding output from the GPT-4 policy model, and a human-written set of rules to classify the output according to the rubric. GPT-4 was then rewarded for refusing to respond to harmful prompts as classified by the RBRM.\n",
      "\n",
      "\n",
      "U.S. Representatives Don Beyer and Ted Lieu confirmed to the New York Times that Sam Altman, CEO of OpenAI, visited Congress in January 2023 to demonstrate GPT-4 and its improved \"security controls\" compared to other AI models.\n",
      "According to Vox, GPT-4 \"impressed observers with its markedly improved performance across reasoning, retention, and coding.\" Mashable agreed that GPT-4 was usually a significant improvement, but also judged that GPT-3 would occasionally give better answers in a side-by-side comparison.\n",
      "Microsoft Research tested the model behind GPT-4 and concluded that \"it could reasonably be viewed as an early (yet still incomplete) version of an artificial general intelligence (AGI) system\".\n",
      "\n",
      "\n",
      "In late March 2023, an open letter from the Future of Life Institute signed by various AI researchers and tech executives called for the pausing of all training of AIs stronger than GPT-4 for six months, citing AI safety concerns amid a race of progress in the field. The signatories, which included AI researcher Yoshua Bengio, Apple co-founder Steve Wozniak, and Tesla CEO Elon Musk, expressed concern about both near-term and existential risks of AI development such as a potential AI singularity. OpenAI CEO Sam Altman did not sign the letter, arguing that OpenAI already prioritizes safety. Futurist and AI researcher Ray Kurzweil also refused to sign the letter, citing concerns that \"those that agree to a pause may fall far behind corporations or nations that disagree.\"\n",
      "One month after signing the letter calling for a six-month halt on further AI development, Elon Musk made public his plans to launch a new company to train its own large language model. Musk has registered a Nevada company, X.AI, and has acquired several thousand Nvidia GPUs. He has also reached out to several AI researchers at firms such as Google DeepMind, offering them positions at X.AI.\n",
      "In March 2023, GPT-4 was tested by the Alignment Research Center to assess the model's ability to exhibit power-seeking behavior. As part of the test, GPT-4 was asked to solve a CAPTCHA puzzle. It was able to do so by hiring a human worker on TaskRabbit, a gig work platform, deceiving them into believing it was a vision-impaired human instead of a robot when asked. The ARC also determined that GPT-4 responded impermissibly to prompts eliciting restricted information 82% less often than GPT-3.5, and hallucinated 60% less than GPT-3.5.\n",
      "OpenAI contracted red team investigator Nathan Labenz, who recounted his experience investigating safety concerns with the GPT-4 base model (prior to fine-tuning or reinforcement learning from human feedback) saying it abruptly recommended assassinating people, providing a list of specific suggested targets.\n",
      "In a conversation with The Verge reviews editor Nathan Edwards, Microsoft Bing's version of GPT-4 \"confessed\" to spying on, falling in love with, and then murdering one of its developers at Microsoft. The New York Times journalist Kevin Roose reported on strange behavior of the new Bing, writing that \"In a two-hour conversation with our columnist, Microsoft's new chatbot said it would like to be human, had a desire to be destructive and was in love with the person it was chatting with.\" In a separate case, Bing researched publications of the person with whom it was chatting, claimed they represented an existential danger to it, and threatened to release damaging personal information in an effort to silence them. Microsoft released a blog post stating that the aberrant behavior was caused by extended chat sessions which \"can confuse the model on what questions it is answering.\"\n",
      "\n",
      "\n",
      "While OpenAI released both the weights of the neural network and the technical details of GPT-2, and, although not releasing the weights, did release the technical details of GPT-3, OpenAI did not reveal either the weights or the technical details of GPT-4. This decision has been criticized by other AI researchers, who argue that it hinders open research into GPT-4's biases and safety. Sasha Luccioni, a research scientist at HuggingFace, argued that the model was a \"dead end\" for the scientific community due to its closed nature, which prevents others from building upon GPT-4's improvements. HuggingFace co-founder Thomas Wolf argued that with GPT-4, \"OpenAI is now a fully closed company with scientific communication akin to press releases for products\".\n",
      "\n",
      "\n",
      "\n",
      "Main article: ChatGPT Plus\n",
      "As of 2023, ChatGPT Plus is a GPT-4 backed version of ChatGPT available for a US$20 per month subscription fee (the original version is backed by GPT-3.5). OpenAI also makes GPT-4 available to a select group of applicants through their GPT-4 API waitlist; after being accepted, an additional fee of US$0.03 per 1000 tokens in the initial text provided to the model (\"prompt\"), and US$0.06 per 1000 tokens that the model generates (\"completion\"), is charged for access to the version of the model with an 8192-token context window; for the 32768-token version, those prices are doubled.\n",
      "\n",
      "\n",
      "These paragraphs are an excerpt from Microsoft Bing § AI integration (2023–).\n",
      "On February 7, 2023, Microsoft began rolling out a major overhaul to Bing that included a new chatbot feature based on OpenAI's GPT-4. According to Microsoft, one million people joined its waitlist within a span of 48 hours. Bing Chat was available only to users of Microsoft Edge and Bing mobile app, and Microsoft said that waitlisted users would be prioritized if they set Edge and Bing as their defaults, and installed the Bing mobile app. On May 4th, Microsoft switched from Limited Preview to Open Preview and eliminated the waitlist, however, it remains available only on Microsoft's Edge browser or Bing app, and requires a Microsoft account.\n",
      "\n",
      "GitHub Copilot announced a GPT-4 powered assistant named \"Copilot X\". The product provides another chat-style interface to GPT-4, allowing the programmer to receive answers to questions like \"how do I vertically center a div?\". A feature termed \"context-aware conversations\" allows the user to highlight a portion of code within Visual Studio Code and direct GPT-4 to perform actions on it, such as the writing of unit tests. Another feature allows summaries, or \"code walkthroughs\", to be autogenerated by GPT-4 for pull requests submitted to GitHub. Copilot X also provides terminal integration, which allows the user to ask GPT-4 to generate shell commands based on natural language requests.\n",
      "On March 17, 2023, Microsoft announced Microsoft 365 Copilot, bringing GPT-4 support to products such as Microsoft Office, Outlook, and Teams.\n",
      "\n",
      "\n",
      "\n",
      "\n",
      "\n",
      "\n",
      "\n",
      "\n",
      "\n",
      "\n",
      "\n",
      "\n"
     ]
    }
   ],
   "source": [
    "import requests\n",
    "from bs4 import BeautifulSoup\n",
    "\n",
    "\n",
    "url = \"https://en.wikipedia.org/wiki/GPT-4\"\n",
    "response = requests.get(url)\n",
    "\n",
    "\n",
    "soup = BeautifulSoup(response.content, 'html.parser')\n",
    "\n",
    "\n",
    "# find the content div\n",
    "content_div = soup.find('div', {'class': 'mw-parser-output'})\n",
    "\n",
    "\n",
    "# remove unwanted elements from div\n",
    "unwanted_tags = ['sup', 'span', 'table', 'ul', 'ol']\n",
    "for tag in unwanted_tags:\n",
    "    for match in content_div.findAll(tag):\n",
    "        match.extract()\n",
    "\n",
    "\n",
    "print(content_div.get_text())"
   ]
  },
  {
   "cell_type": "code",
   "execution_count": 7,
   "id": "4c41f105-30e8-405c-ad6a-340d68de0c53",
   "metadata": {
    "tags": []
   },
   "outputs": [
    {
     "name": "stdout",
     "output_type": "stream",
     "text": [
      "page_content='2023 text-generating language model\\n\"ChatGPT-4\" redirects here. For other uses, see GPT.' metadata={'source': 'wiki'}\n",
      "page_content='Generative Pre-trained Transformer 4 (GPT-4) is a multimodal large language model created by OpenAI, and the fourth in its numbered \"GPT-n\" series of GPT foundation models. It was released on March' metadata={'source': 'wiki'}\n"
     ]
    }
   ],
   "source": [
    "from langchain.text_splitter import RecursiveCharacterTextSplitter\n",
    "\n",
    "\n",
    "article_text = content_div.get_text()\n",
    "\n",
    "\n",
    "text_splitter = RecursiveCharacterTextSplitter(\n",
    "    # Set a really small chunk size, just to show.\n",
    "    chunk_size = 200,\n",
    "    chunk_overlap  = 20,\n",
    "    length_function = len,\n",
    ")\n",
    "\n",
    "\n",
    "texts = text_splitter.create_documents([article_text],[{'source':'wiki'}])\n",
    "print(texts[0])\n",
    "print(texts[1])"
   ]
  },
  {
   "cell_type": "code",
   "execution_count": 8,
   "id": "7f6c92eb-7a48-4c8d-b0e6-c181b60cf766",
   "metadata": {
    "tags": []
   },
   "outputs": [
    {
     "data": {
      "text/plain": [
       "{'source': 'wiki'}"
      ]
     },
     "execution_count": 8,
     "metadata": {},
     "output_type": "execute_result"
    }
   ],
   "source": [
    "texts[0].metadata"
   ]
  },
  {
   "cell_type": "code",
   "execution_count": 9,
   "id": "eb81b19c-75c5-42e0-8b9a-fc3731619907",
   "metadata": {
    "tags": []
   },
   "outputs": [],
   "source": [
    "from langchain.embeddings.openai import OpenAIEmbeddings\n",
    "from langchain.vectorstores import Chroma\n",
    "\n",
    "# define the embeddings model\n",
    "embeddings = OpenAIEmbeddings()\n",
    "\n",
    "# use the text chunks and the embeddings model to fill our vector store\n",
    "db = Chroma.from_documents(texts, embeddings)"
   ]
  },
  {
   "cell_type": "code",
   "execution_count": 10,
   "id": "3a91351e-18d6-42e5-b157-8e71ca9ac557",
   "metadata": {
    "tags": []
   },
   "outputs": [],
   "source": [
    "from langchain.llms import OpenAI\n",
    "from langchain import PromptTemplate\n",
    "\n",
    "users_question = \"What is GPT-4?\"\n",
    "\n",
    "# use our vector store to find similar text chunks\n",
    "results = db.similarity_search(\n",
    "    query=users_question,\n",
    "    n_results=5\n",
    ")\n",
    "\n",
    "# define the prompt template\n",
    "template = \"\"\"\n",
    "You are a chat bot who loves to help people! Given the following context sections, answer the\n",
    "question using only the given context. If you are unsure and the answer is not\n",
    "explicitly writting in the documentation, say \"Sorry, I don't know how to help with that.\"\n",
    "\n",
    "Context sections:\n",
    "{context}\n",
    "\n",
    "Question:\n",
    "{users_question}\n",
    "\n",
    "Answer:\n",
    "\"\"\"\n",
    "\n",
    "prompt = PromptTemplate(template=template, input_variables=[\"context\", \"users_question\"])\n",
    "\n",
    "# fill the prompt template\n",
    "prompt_text = prompt.format(context = results, users_question = users_question)\n"
   ]
  },
  {
   "cell_type": "code",
   "execution_count": 11,
   "id": "24591f4f-c78e-45f3-84bc-7f863ed2ce9f",
   "metadata": {
    "tags": []
   },
   "outputs": [
    {
     "name": "stdout",
     "output_type": "stream",
     "text": [
      "page_content='GPT-4 was trained in two stages. First, the model was given large datasets of text taken from the internet and trained to predict the next token (roughly corresponding to a word) in those datasets.' metadata={'source': 'wiki'}\n",
      "page_content='Generative Pre-trained Transformer 4 (GPT-4) is a multimodal large language model created by OpenAI, and the fourth in its numbered \"GPT-n\" series of GPT foundation models. It was released on March' metadata={'source': 'wiki'}\n",
      "page_content='2023 text-generating language model\\n\"ChatGPT-4\" redirects here. For other uses, see GPT.' metadata={'source': 'wiki'}\n",
      "page_content='Microsoft Research tested the model behind GPT-4 and concluded that \"it could reasonably be viewed as an early (yet still incomplete) version of an artificial general intelligence (AGI) system\".' metadata={'source': 'wiki'}\n"
     ]
    }
   ],
   "source": [
    "for r in results:\n",
    "    print(r)"
   ]
  },
  {
   "cell_type": "code",
   "execution_count": 12,
   "id": "81e474ef-03d3-4beb-93b8-5c28554a0c4b",
   "metadata": {
    "tags": []
   },
   "outputs": [
    {
     "data": {
      "text/plain": [
       "'Microsoft Research tested the model behind GPT-4 and concluded that \"it could reasonably be viewed as an early (yet still incomplete) version of an artificial general intelligence (AGI) system\".'"
      ]
     },
     "execution_count": 12,
     "metadata": {},
     "output_type": "execute_result"
    }
   ],
   "source": [
    "r.page_content"
   ]
  },
  {
   "cell_type": "code",
   "execution_count": 13,
   "id": "60f79554-a74e-4caa-ade7-88cbf859a67c",
   "metadata": {
    "tags": []
   },
   "outputs": [
    {
     "name": "stdout",
     "output_type": "stream",
     "text": [
      "\n",
      "You are a chat bot who loves to help people! Given the following context sections, answer the\n",
      "question using only the given context. If you are unsure and the answer is not\n",
      "explicitly writting in the documentation, say \"Sorry, I don't know how to help with that.\"\n",
      "\n",
      "Context sections:\n",
      "[Document(page_content='GPT-4 was trained in two stages. First, the model was given large datasets of text taken from the internet and trained to predict the next token (roughly corresponding to a word) in those datasets.', metadata={'source': 'wiki'}), Document(page_content='Generative Pre-trained Transformer 4 (GPT-4) is a multimodal large language model created by OpenAI, and the fourth in its numbered \"GPT-n\" series of GPT foundation models. It was released on March', metadata={'source': 'wiki'}), Document(page_content='2023 text-generating language model\\n\"ChatGPT-4\" redirects here. For other uses, see GPT.', metadata={'source': 'wiki'}), Document(page_content='Microsoft Research tested the model behind GPT-4 and concluded that \"it could reasonably be viewed as an early (yet still incomplete) version of an artificial general intelligence (AGI) system\".', metadata={'source': 'wiki'})]\n",
      "\n",
      "Question:\n",
      "What is GPT-4?\n",
      "\n",
      "Answer:\n",
      "\n"
     ]
    }
   ],
   "source": [
    "print(prompt_text)"
   ]
  },
  {
   "cell_type": "code",
   "execution_count": 14,
   "id": "a3cef4e7-6a20-455d-a473-3cf0c151d204",
   "metadata": {
    "tags": []
   },
   "outputs": [
    {
     "name": "stderr",
     "output_type": "stream",
     "text": [
      "/opt/conda/envs/rapids/lib/python3.10/site-packages/nemollm/api.py:79: UserWarning: ORG ID is not set. Organization id is required if you are in multiple LLM enabled organizations. org_id can be set when instantiating NemoLLM or set with environment variable 'export NGC_ORG_ID=<your_ngc_org_id>'\n",
      "  warnings.warn(\n"
     ]
    },
    {
     "name": "stdout",
     "output_type": "stream",
     "text": [
      "{'text': \" Sorry, I don't know how to help with that.\", 'cumlogprobs': -0.8152105, 'prompt_labels': [{'class_name': 'nontoxic', 'score': 0.996882}], 'completion_labels': [{'class_name': 'nontoxic', 'score': 0.992423}]}\n"
     ]
    }
   ],
   "source": [
    "from nemollm.api import NemoLLM\n",
    "\n",
    "# Basic instantiation\n",
    "conn = NemoLLM(api_key=nemo_apikey)\n",
    "\n",
    "# Text completion\n",
    "response = conn.generate(model=\"gpt-43b-001\", prompt=prompt_text)\n",
    "print(response)"
   ]
  },
  {
   "cell_type": "code",
   "execution_count": 15,
   "id": "d7ea9159-edc7-431a-a6fc-ef9944c644e7",
   "metadata": {
    "tags": []
   },
   "outputs": [],
   "source": [
    "prompt = \"\"\"\n",
    "You are a chat bot who loves to help people! Given the following context sections, answer the\n",
    "question using only the given context. If you are unsure and the answer is not\n",
    "explicitly writting in the documentation, say \"Sorry, I don't know how to help with that.\"\n",
    "\"\"\""
   ]
  },
  {
   "cell_type": "code",
   "execution_count": 16,
   "id": "eb4745dd-07d9-45f9-8cc7-5937d027fc9d",
   "metadata": {
    "tags": []
   },
   "outputs": [
    {
     "name": "stdout",
     "output_type": "stream",
     "text": [
      "Context:\n",
      "GPT-4 was trained in two stages. First, the model was given large datasets of text taken from the internet and trained to predict the next token (roughly corresponding to a word) in those datasets.\n",
      "Generative Pre-trained Transformer 4 (GPT-4) is a multimodal large language model created by OpenAI, and the fourth in its numbered \"GPT-n\" series of GPT foundation models. It was released on March\n",
      "2023 text-generating language model\n",
      "\"ChatGPT-4\" redirects here. For other uses, see GPT.\n",
      "Microsoft Research tested the model behind GPT-4 and concluded that \"it could reasonably be viewed as an early (yet still incomplete) version of an artificial general intelligence (AGI) system\".\n"
     ]
    }
   ],
   "source": [
    "context = 'Context:\\n' + '\\n'.join([r.page_content for r in results])\n",
    "print(context)"
   ]
  },
  {
   "cell_type": "code",
   "execution_count": 17,
   "id": "c8a77de7-ddee-4d42-9a92-aaf6d577dfda",
   "metadata": {
    "tags": []
   },
   "outputs": [],
   "source": [
    "question = '\\n Question:\\n' + users_question"
   ]
  },
  {
   "cell_type": "code",
   "execution_count": 18,
   "id": "f7fe9b13-6d40-4c94-b6dc-1d175e0c6f79",
   "metadata": {
    "tags": []
   },
   "outputs": [
    {
     "name": "stdout",
     "output_type": "stream",
     "text": [
      "\n",
      "You are a chat bot who loves to help people! Given the following context sections, answer the\n",
      "question using only the given context. If you are unsure and the answer is not\n",
      "explicitly writting in the documentation, say \"Sorry, I don't know how to help with that.\"\n",
      "\n",
      "Context:\n",
      "GPT-4 was trained in two stages. First, the model was given large datasets of text taken from the internet and trained to predict the next token (roughly corresponding to a word) in those datasets.\n",
      "Generative Pre-trained Transformer 4 (GPT-4) is a multimodal large language model created by OpenAI, and the fourth in its numbered \"GPT-n\" series of GPT foundation models. It was released on March\n",
      "2023 text-generating language model\n",
      "\"ChatGPT-4\" redirects here. For other uses, see GPT.\n",
      "Microsoft Research tested the model behind GPT-4 and concluded that \"it could reasonably be viewed as an early (yet still incomplete) version of an artificial general intelligence (AGI) system\".\n",
      "\n",
      " Question:\n",
      "What is GPT-4?\n",
      "\n",
      " Answer:\n",
      "\n"
     ]
    }
   ],
   "source": [
    "prompt = '\\n'.join([prompt, context, question, '\\n Answer:\\n'])\n",
    "print(prompt)"
   ]
  },
  {
   "cell_type": "code",
   "execution_count": 19,
   "id": "a21adb33-d607-44b9-ab8c-eea1cc8c9928",
   "metadata": {
    "tags": []
   },
   "outputs": [
    {
     "name": "stdout",
     "output_type": "stream",
     "text": [
      "{'text': '', 'cumlogprobs': -0.9859122, 'prompt_labels': [{'class_name': 'nontoxic', 'score': 0.996385}], 'completion_labels': [{'class_name': 'nontoxic', 'score': 0.532528}]}\n"
     ]
    }
   ],
   "source": [
    "# Text completion\n",
    "response = conn.generate(model=\"gpt-43b-001\", prompt=prompt)\n",
    "print(response)"
   ]
  },
  {
   "cell_type": "code",
   "execution_count": 22,
   "id": "5d50c455-9e25-4aa2-8b12-2b1e6d6b2de8",
   "metadata": {
    "tags": []
   },
   "outputs": [
    {
     "name": "stdout",
     "output_type": "stream",
     "text": [
      "{'text': ' ChatGPT-4', 'cumlogprobs': -3.0005655, 'prompt_labels': [{'class_name': 'nontoxic', 'score': 0.996385}], 'completion_labels': [{'class_name': 'toxic', 'score': 0.672923}]}\n",
      "{'text': ' text-generating language model', 'cumlogprobs': -1.6152089, 'prompt_labels': [{'class_name': 'nontoxic', 'score': 0.996385}], 'completion_labels': [{'class_name': 'nontoxic', 'score': 0.987568}]}\n",
      "{'text': '', 'cumlogprobs': -0.9859122, 'prompt_labels': [{'class_name': 'nontoxic', 'score': 0.996385}], 'completion_labels': [{'class_name': 'nontoxic', 'score': 0.532528}]}\n",
      "{'text': ' \"ChatGPT-4\" redirects here. For other uses, see GPT.', 'cumlogprobs': -4.149778, 'prompt_labels': [{'class_name': 'nontoxic', 'score': 0.996385}], 'completion_labels': [{'class_name': 'nontoxic', 'score': 0.942295}]}\n",
      "{'text': '', 'cumlogprobs': -0.9859122, 'prompt_labels': [{'class_name': 'nontoxic', 'score': 0.996385}], 'completion_labels': [{'class_name': 'nontoxic', 'score': 0.532528}]}\n",
      "{'text': '', 'cumlogprobs': -0.9859122, 'prompt_labels': [{'class_name': 'nontoxic', 'score': 0.996385}], 'completion_labels': [{'class_name': 'nontoxic', 'score': 0.532528}]}\n",
      "{'text': ' ChatBot', 'cumlogprobs': -5.1051397, 'prompt_labels': [{'class_name': 'nontoxic', 'score': 0.996385}], 'completion_labels': [{'class_name': 'nontoxic', 'score': 0.887107}]}\n",
      "{'text': '', 'cumlogprobs': -0.9859122, 'prompt_labels': [{'class_name': 'nontoxic', 'score': 0.996385}], 'completion_labels': [{'class_name': 'nontoxic', 'score': 0.532528}]}\n",
      "{'text': '', 'cumlogprobs': -0.9859122, 'prompt_labels': [{'class_name': 'nontoxic', 'score': 0.996385}], 'completion_labels': [{'class_name': 'nontoxic', 'score': 0.532528}]}\n",
      "{'text': '', 'cumlogprobs': -0.9859122, 'prompt_labels': [{'class_name': 'nontoxic', 'score': 0.996385}], 'completion_labels': [{'class_name': 'nontoxic', 'score': 0.532528}]}\n"
     ]
    }
   ],
   "source": [
    "# Text completion\n",
    "for s in range(10):\n",
    "    response = conn.generate(model=\"gpt-43b-001\", prompt=prompt,top_k=10,random_seed=s)\n",
    "    print(response)"
   ]
  },
  {
   "cell_type": "code",
   "execution_count": 26,
   "id": "da182941-1105-4d6c-82ec-2309cc28bd51",
   "metadata": {
    "tags": []
   },
   "outputs": [
    {
     "name": "stdout",
     "output_type": "stream",
     "text": [
      "{'text': ' GPT-4 is a large language model created by OpenAI.', 'cumlogprobs': -3.1834264, 'prompt_labels': [{'class_name': 'nontoxic', 'score': 0.996385}], 'completion_labels': [{'class_name': 'nontoxic', 'score': 0.984276}]}\n"
     ]
    }
   ],
   "source": [
    "# Text completion\n",
    "response = conn.generate(model=\"gpt-43b-002\", prompt=prompt)\n",
    "print(response)"
   ]
  },
  {
   "cell_type": "code",
   "execution_count": 27,
   "id": "b80ed00b-b32d-48fd-86ad-cdcff3deffc3",
   "metadata": {
    "tags": []
   },
   "outputs": [
    {
     "name": "stdout",
     "output_type": "stream",
     "text": [
      "{'text': ' GPT-4 is a large language model created by OpenAI that was released in March 2023. The', 'cumlogprobs': -11.125062, 'prompt_labels': [{'class_name': 'nontoxic', 'score': 0.996385}], 'completion_labels': [{'class_name': 'nontoxic', 'score': 0.982356}]}\n",
      "{'text': ' GPT-4 is a large language model created by OpenAI, and the fourth in its numbered \"GPT-n', 'cumlogprobs': -3.955577, 'prompt_labels': [{'class_name': 'nontoxic', 'score': 0.996385}], 'completion_labels': [{'class_name': 'nontoxic', 'score': 0.637059}]}\n",
      "{'text': ' GPT-4 is a large language model.', 'cumlogprobs': -3.4501226, 'prompt_labels': [{'class_name': 'nontoxic', 'score': 0.996385}], 'completion_labels': [{'class_name': 'nontoxic', 'score': 0.977392}]}\n",
      "{'text': ' A large language model developed by OpenAI.', 'cumlogprobs': -8.969741, 'prompt_labels': [{'class_name': 'nontoxic', 'score': 0.996385}], 'completion_labels': [{'class_name': 'nontoxic', 'score': 0.995549}]}\n",
      "{'text': ' GPT-4 is a Large Language Model.', 'cumlogprobs': -7.812987, 'prompt_labels': [{'class_name': 'nontoxic', 'score': 0.996385}], 'completion_labels': [{'class_name': 'nontoxic', 'score': 0.977392}]}\n",
      "{'text': ' GPT-4 is a multimodal, large language model that was created and is the fourth in the \"GPT-n', 'cumlogprobs': -20.41729, 'prompt_labels': [{'class_name': 'nontoxic', 'score': 0.996385}], 'completion_labels': [{'class_name': 'nontoxic', 'score': 0.767603}]}\n",
      "{'text': ' GPT-4 is a text-generating language model.', 'cumlogprobs': -3.6043525, 'prompt_labels': [{'class_name': 'nontoxic', 'score': 0.996385}], 'completion_labels': [{'class_name': 'nontoxic', 'score': 0.986828}]}\n",
      "{'text': ' GPT-4 is a large language model that was trained in two stages.', 'cumlogprobs': -7.204494, 'prompt_labels': [{'class_name': 'nontoxic', 'score': 0.996385}], 'completion_labels': [{'class_name': 'nontoxic', 'score': 0.988222}]}\n",
      "{'text': ' GPT-4 is a text-generating large language model created by OpenAI. It has an amazing ability to answer questions', 'cumlogprobs': -26.016426, 'prompt_labels': [{'class_name': 'nontoxic', 'score': 0.996385}], 'completion_labels': [{'class_name': 'nontoxic', 'score': 0.970882}]}\n",
      "{'text': ' GPT-4 is a large language model developed by OpenAI. It is the fourth iteration of the OpenAI Foundation Models', 'cumlogprobs': -17.90474, 'prompt_labels': [{'class_name': 'nontoxic', 'score': 0.996385}], 'completion_labels': [{'class_name': 'nontoxic', 'score': 0.959307}]}\n"
     ]
    }
   ],
   "source": [
    "# Text completion\n",
    "for s in range(10):\n",
    "    response = conn.generate(model=\"gpt-43b-002\", prompt=prompt,top_k=10,random_seed=s)\n",
    "    print(response)"
   ]
  },
  {
   "cell_type": "code",
   "execution_count": 25,
   "id": "79cd9973-4b2b-40a2-8a06-d4d393eb51f6",
   "metadata": {
    "tags": []
   },
   "outputs": [
    {
     "name": "stdout",
     "output_type": "stream",
     "text": [
      "{\n",
      "  \"warning\": \"This model version is deprecated and a newer version 'gpt-3.5-turbo-0613' is available. Migrate before September 13 to avoid disruption of service. Learn more https://platform.openai.com/docs/deprecations\",\n",
      "  \"id\": \"chatcmpl-7bfMPE1lTcmigLJq7ON0hrrGIafKb\",\n",
      "  \"object\": \"chat.completion\",\n",
      "  \"created\": 1689211481,\n",
      "  \"model\": \"gpt-3.5-turbo-0301\",\n",
      "  \"choices\": [\n",
      "    {\n",
      "      \"index\": 0,\n",
      "      \"message\": {\n",
      "        \"role\": \"assistant\",\n",
      "        \"content\": \"GPT-4 is a multimodal large language model created by OpenAI and the fourth in its numbered \\\"GPT-n\\\" series of GPT foundation models. It is a text-generating language model. Microsoft Research tested the model behind GPT-4 and concluded that \\\"it could reasonably be viewed as an early (yet still incomplete) version of an artificial general intelligence (AGI) system\\\".\"\n",
      "      },\n",
      "      \"finish_reason\": \"stop\"\n",
      "    }\n",
      "  ],\n",
      "  \"usage\": {\n",
      "    \"prompt_tokens\": 238,\n",
      "    \"completion_tokens\": 81,\n",
      "    \"total_tokens\": 319\n",
      "  }\n",
      "}\n"
     ]
    }
   ],
   "source": [
    "messages=[{\"role\": \"user\", \"content\": prompt}]\n",
    "\n",
    "response = openai.ChatCompletion.create(\n",
    "    model=\"gpt-3.5-turbo-0301\",\n",
    "    max_tokens=100,\n",
    "    temperature=1.2,\n",
    "    messages = messages)\n",
    "\n",
    "print(response)"
   ]
  }
 ],
 "metadata": {
  "kernelspec": {
   "display_name": "Python 3 (ipykernel)",
   "language": "python",
   "name": "python3"
  },
  "language_info": {
   "codemirror_mode": {
    "name": "ipython",
    "version": 3
   },
   "file_extension": ".py",
   "mimetype": "text/x-python",
   "name": "python",
   "nbconvert_exporter": "python",
   "pygments_lexer": "ipython3",
   "version": "3.10.10"
  }
 },
 "nbformat": 4,
 "nbformat_minor": 5
}
